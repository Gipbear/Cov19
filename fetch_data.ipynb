{
 "cells": [
  {
   "cell_type": "markdown",
   "metadata": {},
   "source": [
    "## 爬取腾讯的疫情数据"
   ]
  },
  {
   "cell_type": "code",
   "execution_count": 1,
   "metadata": {},
   "outputs": [
    {
     "name": "stdout",
     "output_type": "stream",
     "text": [
      "dict_keys(['ret', 'data'])\n"
     ]
    }
   ],
   "source": [
    "import json\n",
    "\n",
    "import requests\n",
    "\n",
    "url = 'https://view.inews.qq.com/g2/getOnsInfo?name=disease_h5'\n",
    "res = requests.get(url)\n",
    "d = json.loads(res.text)\n",
    "print(d.keys())"
   ]
  },
  {
   "cell_type": "code",
   "execution_count": 2,
   "metadata": {},
   "outputs": [
    {
     "name": "stdout",
     "output_type": "stream",
     "text": [
      "dict_keys(['lastUpdateTime', 'chinaTotal', 'chinaAdd', 'isShowAdd', 'showAddSwitch', 'areaTree'])\n"
     ]
    }
   ],
   "source": [
    "data_all = json.loads(d['data'])\n",
    "print(data_all.keys())"
   ]
  },
  {
   "cell_type": "code",
   "execution_count": 3,
   "metadata": {},
   "outputs": [
    {
     "name": "stdout",
     "output_type": "stream",
     "text": [
      "1\n",
      "dict_keys(['name', 'today', 'total', 'children'])\n"
     ]
    }
   ],
   "source": [
    "print(len(data_all['areaTree']))\n",
    "print(data_all['areaTree'][0].keys())"
   ]
  },
  {
   "cell_type": "code",
   "execution_count": 4,
   "metadata": {},
   "outputs": [
    {
     "name": "stdout",
     "output_type": "stream",
     "text": [
      "中国\n",
      "{'confirm': 21, 'isUpdated': True}\n",
      "{'nowConfirm': 521, 'confirm': 92511, 'suspect': 0, 'dead': 4749, 'deadRate': '5.13', 'showRate': False, 'heal': 87241, 'healRate': '94.30', 'showHeal': True}\n"
     ]
    }
   ],
   "source": [
    "print(data_all['areaTree'][0]['name'])\n",
    "print(data_all['areaTree'][0]['today'])\n",
    "print(data_all['areaTree'][0]['total'])"
   ]
  },
  {
   "cell_type": "code",
   "execution_count": 5,
   "metadata": {},
   "outputs": [
    {
     "name": "stdout",
     "output_type": "stream",
     "text": [
      "34\n",
      "香港\n",
      "上海\n",
      "台湾\n",
      "四川\n",
      "陕西\n",
      "广东\n",
      "福建\n",
      "内蒙古\n",
      "天津\n",
      "江苏\n",
      "湖北\n",
      "浙江\n",
      "山西\n",
      "辽宁\n",
      "云南\n",
      "河南\n",
      "河北\n",
      "新疆\n",
      "北京\n",
      "广西\n",
      "甘肃\n",
      "湖南\n",
      "安徽\n",
      "山东\n",
      "重庆\n",
      "青海\n",
      "江西\n",
      "吉林\n",
      "宁夏\n",
      "黑龙江\n",
      "海南\n",
      "贵州\n",
      "澳门\n",
      "西藏\n"
     ]
    }
   ],
   "source": [
    "print(len(data_all['areaTree'][0]['children']))\n",
    "\n",
    "for i in data_all['areaTree'][0]['children']:\n",
    "    print(i['name'])"
   ]
  },
  {
   "cell_type": "code",
   "execution_count": 6,
   "metadata": {},
   "outputs": [],
   "source": [
    "import json\n",
    "import time\n",
    "import traceback\n",
    "\n",
    "import pymysql"
   ]
  },
  {
   "cell_type": "code",
   "execution_count": 7,
   "metadata": {},
   "outputs": [],
   "source": [
    "def get_tencent_data():\n",
    "    url1 = \"https://view.inews.qq.com/g2/getOnsInfo?name=disease_h5\"\n",
    "    url2 = \"https://view.inews.qq.com/g2/getOnsInfo?name=disease_other\"\n",
    "    headers = {\n",
    "        \"user-agent\": \"Mozilla/5.0 (Windows NT 10.0; Win64; x64) AppleWebKit/537.36 (KHTML, like Gecko) Chrome/80.0.3987.122 Safari/537.36\"\n",
    "    }\n",
    "    r1 = requests.get(url1, headers)\n",
    "    r2 = requests.get(url2, headers)\n",
    "\n",
    "    res1 = json.loads(r1.text)\n",
    "    res2 = json.loads(r2.text)\n",
    "\n",
    "    data_all1 = json.loads(res1[\"data\"])\n",
    "    data_all2 = json.loads(res2[\"data\"])\n",
    "\n",
    "    history = {}\n",
    "    for i in data_all2[\"chinaDayList\"]:\n",
    "        ds = \"2020.\" + i[\"date\"]\n",
    "        tup = time.strptime(ds, \"%Y.%m.%d\")  # 匹配时间\n",
    "        ds = time.strftime(\"%Y-%m-%d\", tup)  # 改变时间格式\n",
    "        confirm = i[\"confirm\"]\n",
    "        suspect = i[\"suspect\"]\n",
    "        heal = i[\"heal\"]\n",
    "        dead = i[\"dead\"]\n",
    "        history[ds] = {\"confirm\": confirm,\n",
    "                       \"suspect\": suspect, \"heal\": heal, \"dead\": dead}\n",
    "    for i in data_all2[\"chinaDayAddList\"]:\n",
    "        ds = \"2020.\" + i[\"date\"]\n",
    "        tup = time.strptime(ds, \"%Y.%m.%d\")  # 匹配时间\n",
    "        ds = time.strftime(\"%Y-%m-%d\", tup)  # 改变时间格式\n",
    "        confirm = i[\"confirm\"]\n",
    "        suspect = i[\"suspect\"]\n",
    "        heal = i[\"heal\"]\n",
    "        dead = i[\"dead\"]\n",
    "        history[ds].update(\n",
    "            {\"confirm_add\": confirm, \"suspect_add\": suspect, \"heal_add\": heal, \"dead_add\": dead})\n",
    "\n",
    "    details = []\n",
    "    update_time = data_all1[\"lastUpdateTime\"]\n",
    "    data_country = data_all1[\"areaTree\"]\n",
    "    data_province = data_country[0][\"children\"]\n",
    "    for pro_infos in data_province:\n",
    "        province = pro_infos[\"name\"]\n",
    "        for city_infos in pro_infos[\"children\"]:\n",
    "            city = city_infos[\"name\"]\n",
    "            confirm = city_infos[\"total\"][\"confirm\"]\n",
    "            confirm_add = city_infos[\"today\"][\"confirm\"]\n",
    "            heal = city_infos[\"total\"][\"heal\"]\n",
    "            dead = city_infos[\"total\"][\"dead\"]\n",
    "            details.append([update_time, province, city,\n",
    "                            confirm, confirm_add, heal, dead])\n",
    "    return history, details"
   ]
  },
  {
   "cell_type": "markdown",
   "metadata": {},
   "source": [
    "## 存储数据"
   ]
  },
  {
   "cell_type": "code",
   "execution_count": 8,
   "metadata": {},
   "outputs": [],
   "source": [
    "def get_conn():\n",
    "    # 建立连接\n",
    "    conn = pymysql.connect(host='localhost',\n",
    "                           user='root',\n",
    "                           password='123456',\n",
    "                           db='cov')\n",
    "    # 创建游标\n",
    "    cursor = conn.cursor()\n",
    "    return conn, cursor\n",
    "\n",
    "\n",
    "def close_conn(conn, cursor):\n",
    "    if cursor:\n",
    "        cursor.close()\n",
    "    if conn:\n",
    "        conn.close()"
   ]
  },
  {
   "cell_type": "code",
   "execution_count": 9,
   "metadata": {},
   "outputs": [],
   "source": [
    "def update_details():\n",
    "    \"\"\"更新details表\"\"\"\n",
    "    cursor = None\n",
    "    conn = None\n",
    "    try:\n",
    "        li = get_tencent_data()[1]\n",
    "        conn, cursor = get_conn()\n",
    "        sql = 'insert into details(update_time,province,city,confirm,confirm_add,heal,dead) values(%s,%s,%s,%s,%s,%s,%s)'\n",
    "        # 对比当前最大时间戳\n",
    "        sql_query = 'select %s=(select update_time from details order by id desc limit 1)'\n",
    "        cursor.execute(sql_query, li[0][0])\n",
    "        if not cursor.fetchone()[0]:\n",
    "            print(f'{time.asctime()}开始更新最新数据')\n",
    "            for item in li:\n",
    "                cursor.execute(sql, item)\n",
    "            conn.commit()\n",
    "            print(f'{time.asctime()}更新最新数据完毕')\n",
    "        else:\n",
    "            print(f'{time.asctime()}已是最新数据')\n",
    "    except:\n",
    "        traceback.print_exc()\n",
    "    finally:\n",
    "        close_conn(conn, cursor)"
   ]
  },
  {
   "cell_type": "code",
   "execution_count": 10,
   "metadata": {},
   "outputs": [],
   "source": [
    "def insert_history():\n",
    "    \"\"\"插入history表\"\"\"\n",
    "    cursor = None\n",
    "    conn = None\n",
    "    try:\n",
    "        dic = get_tencent_data()[0]\n",
    "        print(f'{time.asctime()}开始插入历史数据')\n",
    "        conn, cursor = get_conn()\n",
    "        sql = 'insert into history values(%s,%s,%s,%s,%s,%s,%s,%s,%s)'\n",
    "        for k, v in dic.items():\n",
    "            cursor.execute(sql, [k, v.get('confirm'), v.get('confirm_add'),\n",
    "                                 v.get('suspect'), v.get('suspect_add'),\n",
    "                                 v.get('heal'), v.get('heal_add'),\n",
    "                                 v.get('dead'), v.get('dead_add')])\n",
    "        conn.commit()\n",
    "        print(f'{time.asctime()}插入历史数据完毕')\n",
    "    except:\n",
    "        traceback.print_exc()\n",
    "    finally:\n",
    "        close_conn(conn, cursor)"
   ]
  },
  {
   "cell_type": "code",
   "execution_count": 11,
   "metadata": {},
   "outputs": [],
   "source": [
    "def update_history():\n",
    "    \"\"\"插入history表\"\"\"\n",
    "    cursor = None\n",
    "    conn = None\n",
    "    try:\n",
    "        dic = get_tencent_data()[0]\n",
    "        print(f'{time.asctime()}开始更新历史数据')\n",
    "        conn, cursor = get_conn()\n",
    "        sql = 'insert into history values(%s,%s,%s,%s,%s,%s,%s,%s,%s)'\n",
    "        sql_query = 'select confirm from history where ds=%s'\n",
    "        for k, v in dic.items():\n",
    "            cursor.execute(sql, [k, v.get('confirm'), v.get('confirm_add'),\n",
    "                                 v.get('suspect'), v.get('suspect_add'),\n",
    "                                 v.get('heal'), v.get('heal_add'),\n",
    "                                 v.get('dead'), v.get('dead_add')])\n",
    "        conn.commit()\n",
    "        print(f'{time.asctime()}历史数据更新完毕')\n",
    "    except:\n",
    "        traceback.print_exc()\n",
    "    finally:\n",
    "        close_conn(conn, cursor)"
   ]
  },
  {
   "cell_type": "code",
   "execution_count": 12,
   "metadata": {},
   "outputs": [
    {
     "name": "stdout",
     "output_type": "stream",
     "text": [
      "Thu Nov 19 10:16:05 2020开始插入历史数据\n",
      "Thu Nov 19 10:16:06 2020插入历史数据完毕\n"
     ]
    }
   ],
   "source": [
    "# 插入历史数据\n",
    "insert_history()"
   ]
  },
  {
   "cell_type": "code",
   "execution_count": 13,
   "metadata": {},
   "outputs": [
    {
     "name": "stdout",
     "output_type": "stream",
     "text": [
      "((datetime.datetime(2020, 1, 13, 0, 0), 41, None, 0, None, 0, None, 1, None), (datetime.datetime(2020, 1, 14, 0, 0), 41, None, 0, None, 0, None, 1, None), (datetime.datetime(2020, 1, 15, 0, 0), 41, None, 0, None, 5, None, 2, None), (datetime.datetime(2020, 1, 16, 0, 0), 45, None, 0, None, 8, None, 2, None), (datetime.datetime(2020, 1, 17, 0, 0), 62, None, 0, None, 12, None, 2, None))\n"
     ]
    }
   ],
   "source": [
    "# 建立连接\n",
    "conn = pymysql.connect(host='localhost',\n",
    "                       user='root',\n",
    "                       password='123456',\n",
    "                       db='cov')\n",
    "# 创建游标，默认是元组型\n",
    "cursor = conn.cursor()\n",
    "sql = 'select * from history limit 5'\n",
    "cursor.execute(sql)\n",
    "# 提交事务\n",
    "res = cursor.fetchall()\n",
    "print(res)\n",
    "cursor.close()\n",
    "conn.close()"
   ]
  },
  {
   "cell_type": "code",
   "execution_count": 14,
   "metadata": {},
   "outputs": [
    {
     "name": "stdout",
     "output_type": "stream",
     "text": [
      "Thu Nov 19 10:16:07 2020开始更新最新数据\n",
      "Thu Nov 19 10:16:08 2020更新最新数据完毕\n"
     ]
    }
   ],
   "source": [
    "update_details()"
   ]
  },
  {
   "cell_type": "markdown",
   "metadata": {},
   "source": [
    "## 爬取热搜数据"
   ]
  },
  {
   "cell_type": "code",
   "execution_count": 15,
   "metadata": {},
   "outputs": [],
   "source": [
    "from selenium.webdriver import Chrome, ChromeOptions"
   ]
  },
  {
   "cell_type": "code",
   "execution_count": 16,
   "metadata": {},
   "outputs": [],
   "source": [
    "def get_baidu_hot():\n",
    "    # 无头浏览器\n",
    "    option = ChromeOptions()\n",
    "    option.add_argument('--headless')\n",
    "#     option.add_argument('--no-sandbox')\n",
    "\n",
    "    url = 'http://top.baidu.com/?fr=mhd_card'\n",
    "    broswer = Chrome(options=option, executable_path='chromedriver.exe')\n",
    "    broswer.get(url)\n",
    "    # 找到更多按钮\n",
    "    button = broswer.find_elements_by_xpath(\n",
    "        '//*[@id=\"main\"]/div[1]/div[1]/div[3]/div[1]/a')[0]\n",
    "    button.click()\n",
    "    time.sleep(1)\n",
    "    # 获取热搜标题\n",
    "    c = broswer.find_elements_by_xpath(\n",
    "        '//*[@id=\"main\"]/div[2]/div/table/tbody/tr/td/a[@class=\"list-title\"]')\n",
    "    context = [i.text for i in c]\n",
    "#     broswer.close()\n",
    "    print(context)\n",
    "    return context"
   ]
  },
  {
   "cell_type": "code",
   "execution_count": 17,
   "metadata": {},
   "outputs": [],
   "source": [
    "def update_hotsearch():\n",
    "    \"\"\"插入热搜数据\"\"\"\n",
    "    cursor = None\n",
    "    conn = None\n",
    "    try:\n",
    "        context = get_baidu_hot()\n",
    "        print(f'{time.asctime()}开始更新热搜数据')\n",
    "        conn, cursor = get_conn()\n",
    "        sql = 'insert into hotsearch(dt,content) values(%s,%s)'\n",
    "        ts = time.strftime('%y-%m-%d %X')\n",
    "        for i in context:\n",
    "            cursor.execute(sql, (ts, i))  # 插入数据\n",
    "        conn.commit()\n",
    "        print(f'{time.asctime()}数据更新完毕')\n",
    "    except:\n",
    "        traceback.print_exc()\n",
    "    finally:\n",
    "        close_conn(conn, cursor)"
   ]
  },
  {
   "cell_type": "code",
   "execution_count": 18,
   "metadata": {},
   "outputs": [
    {
     "name": "stdout",
     "output_type": "stream",
     "text": [
      "['特朗普政府官员悄悄接触拜登团队', '特斯拉CEO马斯克确诊新冠', '国务院鼓励各地增加号牌指标投放', '洗手间设偷看女性标志 网红店道歉', '普陀山景区天价便饭调查结果', '特朗普团队已申请威斯康星重新计票', '上海杀妻焚尸案受害者家属发声', '周星驰被前女友追讨7000万案开审', '哈尔滨鼓励房企让利销售新房', '秦岭太白山雪后雾凇美景', '外媒:特朗普计划视频出席APEC', '拜登:美国要与他国结盟抗衡中国', '12岁男生被断裂球拍击中身亡', '猪肉价格已连续两个多月下降', '孙正义出售软银800亿美元资产', '辉瑞称其疫苗有效率达95%', '10省份出手根治欠薪', '2.9元买头绳收3元好评返现卡', '上海一公厕15分钟不出来自动报警', '男子服刑22年出狱申诉 案件再审', '秦霄贤妈妈被银行告上法院', '民航局对多个入境航班发熔断指令', '中方回应孟晚舟案关键证人拒出庭', '厦门2份进口牛肉包装核酸阳性', '国家邮政局回应信息泄露', '日本40岁男性成为化妆品市场主力', '赵立坚2个5概括中国疫苗研发进展', '湖南一餐馆发生爆炸 多人受伤', '\"黑老大\"14年半刑期坐不到7年牢', '河南杀6人嫌犯行凶前视频曝光']\n",
      "Thu Nov 19 10:16:18 2020开始更新热搜数据\n",
      "Thu Nov 19 10:16:18 2020数据更新完毕\n"
     ]
    }
   ],
   "source": [
    "update_hotsearch()"
   ]
  },
  {
   "cell_type": "code",
   "execution_count": null,
   "metadata": {},
   "outputs": [],
   "source": []
  }
 ],
 "metadata": {
  "kernelspec": {
   "display_name": "PyCharm (Cov19)",
   "language": "python",
   "name": "pycharm-3c18d855"
  },
  "language_info": {
   "codemirror_mode": {
    "name": "ipython",
    "version": 3
   },
   "file_extension": ".py",
   "mimetype": "text/x-python",
   "name": "python",
   "nbconvert_exporter": "python",
   "pygments_lexer": "ipython3",
   "version": "3.8.3"
  }
 },
 "nbformat": 4,
 "nbformat_minor": 4
}
