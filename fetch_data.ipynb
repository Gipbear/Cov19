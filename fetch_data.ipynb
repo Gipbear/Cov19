{
 "cells": [
  {
   "cell_type": "markdown",
   "metadata": {},
   "source": [
    "## 爬取腾讯的疫情数据"
   ]
  },
  {
   "cell_type": "code",
   "execution_count": 1,
   "metadata": {},
   "outputs": [
    {
     "name": "stdout",
     "output_type": "stream",
     "text": [
      "dict_keys(['ret', 'data'])\n"
     ]
    }
   ],
   "source": [
    "import requests\n",
    "import json\n",
    "url = 'https://view.inews.qq.com/g2/getOnsInfo?name=disease_h5'\n",
    "res = requests.get(url)\n",
    "d = json.loads(res.text)\n",
    "print(d.keys())"
   ]
  },
  {
   "cell_type": "code",
   "execution_count": 2,
   "metadata": {},
   "outputs": [
    {
     "name": "stdout",
     "output_type": "stream",
     "text": [
      "dict_keys(['lastUpdateTime', 'chinaTotal', 'chinaAdd', 'isShowAdd', 'showAddSwitch', 'areaTree'])\n"
     ]
    }
   ],
   "source": [
    "data_all = json.loads(d['data'])\n",
    "print(data_all.keys())"
   ]
  },
  {
   "cell_type": "code",
   "execution_count": 3,
   "metadata": {},
   "outputs": [
    {
     "name": "stdout",
     "output_type": "stream",
     "text": [
      "1\n",
      "dict_keys(['name', 'today', 'total', 'children'])\n"
     ]
    }
   ],
   "source": [
    "print(len(data_all['areaTree']))\n",
    "print(data_all['areaTree'][0].keys())"
   ]
  },
  {
   "cell_type": "code",
   "execution_count": 4,
   "metadata": {},
   "outputs": [
    {
     "name": "stdout",
     "output_type": "stream",
     "text": [
      "中国\n",
      "{'confirm': 16, 'isUpdated': True}\n",
      "{'nowConfirm': 535, 'confirm': 92492, 'suspect': 0, 'dead': 4749, 'deadRate': '5.13', 'showRate': False, 'heal': 87208, 'healRate': '94.29', 'showHeal': True}\n"
     ]
    }
   ],
   "source": [
    "print(data_all['areaTree'][0]['name'])\n",
    "print(data_all['areaTree'][0]['today'])\n",
    "print(data_all['areaTree'][0]['total'])"
   ]
  },
  {
   "cell_type": "code",
   "execution_count": 5,
   "metadata": {},
   "outputs": [
    {
     "name": "stdout",
     "output_type": "stream",
     "text": [
      "34\n",
      "香港\n",
      "上海\n",
      "台湾\n",
      "四川\n",
      "陕西\n",
      "广东\n",
      "福建\n",
      "内蒙古\n",
      "天津\n",
      "江苏\n",
      "新疆\n",
      "湖北\n",
      "辽宁\n",
      "山西\n",
      "浙江\n",
      "云南\n",
      "河南\n",
      "北京\n",
      "河北\n",
      "甘肃\n",
      "山东\n",
      "安徽\n",
      "湖南\n",
      "广西\n",
      "重庆\n",
      "西藏\n",
      "吉林\n",
      "宁夏\n",
      "江西\n",
      "贵州\n",
      "海南\n",
      "青海\n",
      "澳门\n",
      "黑龙江\n"
     ]
    }
   ],
   "source": [
    "print(len(data_all['areaTree'][0]['children']))\n",
    "\n",
    "for i in data_all['areaTree'][0]['children']:\n",
    "    print(i['name'])"
   ]
  },
  {
   "cell_type": "code",
   "execution_count": 6,
   "metadata": {},
   "outputs": [],
   "source": [
    "import pymysql\n",
    "import time\n",
    "import json\n",
    "import traceback"
   ]
  },
  {
   "cell_type": "code",
   "execution_count": 7,
   "metadata": {},
   "outputs": [],
   "source": [
    "def get_tencent_data():\n",
    "    url1 = \"https://view.inews.qq.com/g2/getOnsInfo?name=disease_h5\"\n",
    "    url2 = \"https://view.inews.qq.com/g2/getOnsInfo?name=disease_other\"\n",
    "    headers = {\n",
    "        \"user-agent\": \"Mozilla/5.0 (Windows NT 10.0; Win64; x64) AppleWebKit/537.36 (KHTML, like Gecko) Chrome/80.0.3987.122 Safari/537.36\"\n",
    "    }\n",
    "    r1 = requests.get(url1, headers)\n",
    "    r2 = requests.get(url2, headers)\n",
    "\n",
    "    res1 = json.loads(r1.text)\n",
    "    res2 = json.loads(r2.text)\n",
    "\n",
    "    data_all1 = json.loads(res1[\"data\"])\n",
    "    data_all2 = json.loads(res2[\"data\"])\n",
    "\n",
    "    history = {}\n",
    "    for i in data_all2[\"chinaDayList\"]:\n",
    "        ds = \"2020.\" + i[\"date\"]\n",
    "        tup = time.strptime(ds, \"%Y.%m.%d\")  # 匹配时间\n",
    "        ds = time.strftime(\"%Y-%m-%d\", tup)  # 改变时间格式\n",
    "        confirm = i[\"confirm\"]\n",
    "        suspect = i[\"suspect\"]\n",
    "        heal = i[\"heal\"]\n",
    "        dead = i[\"dead\"]\n",
    "        history[ds] = {\"confirm\": confirm, \"suspect\": suspect, \"heal\": heal, \"dead\": dead}\n",
    "    for i in data_all2[\"chinaDayAddList\"]:\n",
    "        ds = \"2020.\" + i[\"date\"]\n",
    "        tup = time.strptime(ds, \"%Y.%m.%d\")  # 匹配时间\n",
    "        ds = time.strftime(\"%Y-%m-%d\", tup)  # 改变时间格式\n",
    "        confirm = i[\"confirm\"]\n",
    "        suspect = i[\"suspect\"]\n",
    "        heal = i[\"heal\"]\n",
    "        dead = i[\"dead\"]\n",
    "        history[ds].update({\"confirm_add\": confirm, \"suspect_add\": suspect, \"heal_add\": heal, \"dead_add\": dead})\n",
    "\n",
    "    details = []\n",
    "    update_time = data_all1[\"lastUpdateTime\"]\n",
    "    data_country = data_all1[\"areaTree\"]\n",
    "    data_province = data_country[0][\"children\"]\n",
    "    for pro_infos in data_province:\n",
    "        province = pro_infos[\"name\"]\n",
    "        for city_infos in pro_infos[\"children\"]:\n",
    "            city = city_infos[\"name\"]\n",
    "            confirm = city_infos[\"total\"][\"confirm\"]\n",
    "            confirm_add = city_infos[\"today\"][\"confirm\"]\n",
    "            heal = city_infos[\"total\"][\"heal\"]\n",
    "            dead = city_infos[\"total\"][\"dead\"]\n",
    "            details.append([update_time, province, city, confirm, confirm_add, heal, dead])\n",
    "    return history, details"
   ]
  },
  {
   "cell_type": "markdown",
   "metadata": {},
   "source": [
    "## 存储数据"
   ]
  },
  {
   "cell_type": "code",
   "execution_count": 9,
   "metadata": {},
   "outputs": [],
   "source": [
    "def get_conn():\n",
    "    # 建立连接\n",
    "    conn = pymysql.connect(host='localhost',\n",
    "                          user='root',\n",
    "                          password='123456',\n",
    "                          db='cov')\n",
    "    # 创建游标\n",
    "    cursor = conn.cursor()\n",
    "    return conn, cursor\n",
    "\n",
    "def close_conn(conn, cursor):\n",
    "    if cursor:\n",
    "        cursor.close()\n",
    "    if conn:\n",
    "        conn.close()"
   ]
  },
  {
   "cell_type": "code",
   "execution_count": 10,
   "metadata": {},
   "outputs": [],
   "source": [
    "def update_details():\n",
    "    \"\"\"更新details表\"\"\"\n",
    "    cursor = None\n",
    "    conn = None\n",
    "    try:\n",
    "        li = get_tencent_data()[1]\n",
    "        conn, cursor = get_conn()\n",
    "        sql = 'insert into details(update_time,province,city,confirm,confirm_add,heal,dead) values(%s,%s,%s,%s,%s,%s,%s)'\n",
    "        sql_query = 'select %s=(select update_time from details order by id desc limit 1)' # 对比当前最大时间戳\n",
    "        cursor.execute(sql_query,li[0][0])\n",
    "        if not cursor.fetchone()[0]:\n",
    "            print(f'{time.asctime()}开始更新最新数据')\n",
    "            for item in li:\n",
    "                cursor.execute(sql,item)\n",
    "            conn.commit()\n",
    "            print(f'{time.asctime()}更新最新数据完毕')\n",
    "        else:\n",
    "            print(f'{time.asctime()}已是最新数据')\n",
    "    except:\n",
    "        traceback.print_exc()\n",
    "    finally:\n",
    "        close_conn(conn, cursor)"
   ]
  },
  {
   "cell_type": "code",
   "execution_count": 11,
   "metadata": {},
   "outputs": [],
   "source": [
    "def insert_history():\n",
    "    \"\"\"插入history表\"\"\"\n",
    "    cursor = None\n",
    "    conn = None\n",
    "    try:\n",
    "        dic = get_tencent_data()[0]\n",
    "        print(f'{time.asctime()}开始插入历史数据')\n",
    "        conn, cursor = get_conn()\n",
    "        sql = 'insert into history values(%s,%s,%s,%s,%s,%s,%s,%s,%s)'\n",
    "        for k,v in dic.items():\n",
    "            cursor.execute(sql,[k,v.get('confirm'),v.get('confirm_add'),v.get('suspect'),\n",
    "                                v.get('suspect_add'),v.get('heal'),v.get('heal_add'),\n",
    "                                v.get('dead'),v.get('dead_add')])\n",
    "        conn.commit()\n",
    "        print(f'{time.asctime()}插入历史数据完毕')\n",
    "    except:\n",
    "        traceback.print_exc()\n",
    "    finally:\n",
    "        close_conn(conn, cursor)"
   ]
  },
  {
   "cell_type": "code",
   "execution_count": 12,
   "metadata": {},
   "outputs": [],
   "source": [
    "def update_history():\n",
    "    \"\"\"插入history表\"\"\"\n",
    "    cursor = None\n",
    "    conn = None\n",
    "    try:\n",
    "        dic = get_tencent_data()[0]\n",
    "        print(f'{time.asctime()}开始更新历史数据')\n",
    "        conn, cursor = get_conn()\n",
    "        sql = 'insert into history values(%s,%s,%s,%s,%s,%s,%s,%s,%s)'\n",
    "        sql_query = 'select confirm from history where ds=%s'\n",
    "        for k,v in dic.items():\n",
    "            cursor.execute(sql,[k,v.get('confirm'),v.get('confirm_add'),v.get('suspect'),\n",
    "                                v.get('suspect_add'),v.get('heal'),v.get('heal_add'),\n",
    "                                v.get('dead'),v.get('dead_add')])\n",
    "        conn.commit()\n",
    "        print(f'{time.asctime()}历史数据更新完毕')\n",
    "    except:\n",
    "        traceback.print_exc()\n",
    "    finally:\n",
    "        close_conn(conn, cursor)"
   ]
  },
  {
   "cell_type": "code",
   "execution_count": 16,
   "metadata": {},
   "outputs": [
    {
     "name": "stdout",
     "output_type": "stream",
     "text": [
      "Wed Nov 18 17:26:16 2020开始插入历史数据\n",
      "Wed Nov 18 17:26:16 2020插入历史数据完毕\n"
     ]
    }
   ],
   "source": [
    "# 插入历史数据\n",
    "insert_history()"
   ]
  },
  {
   "cell_type": "code",
   "execution_count": 15,
   "metadata": {},
   "outputs": [
    {
     "name": "stdout",
     "output_type": "stream",
     "text": [
      "((datetime.datetime(2020, 1, 13, 0, 0), 41, None, 0, None, 0, None, 1, None), (datetime.datetime(2020, 1, 14, 0, 0), 41, None, 0, None, 0, None, 1, None), (datetime.datetime(2020, 1, 15, 0, 0), 41, None, 0, None, 5, None, 2, None), (datetime.datetime(2020, 1, 16, 0, 0), 45, None, 0, None, 8, None, 2, None), (datetime.datetime(2020, 1, 17, 0, 0), 62, None, 0, None, 12, None, 2, None))\n"
     ]
    }
   ],
   "source": [
    "# 建立连接\n",
    "conn = pymysql.connect(host='localhost',\n",
    "                      user='root',\n",
    "                      password='123456',\n",
    "                      db='cov')\n",
    "# 创建游标，默认是元组型\n",
    "cursor = conn.cursor()\n",
    "sql = 'select * from history limit 5'\n",
    "cursor.execute(sql)\n",
    "# 提交事务\n",
    "res = cursor.fetchall()\n",
    "print(res)\n",
    "cursor.close()\n",
    "conn.close()"
   ]
  },
  {
   "cell_type": "code",
   "execution_count": 17,
   "metadata": {},
   "outputs": [
    {
     "name": "stdout",
     "output_type": "stream",
     "text": [
      "Wed Nov 18 17:26:53 2020开始更新最新数据\n",
      "Wed Nov 18 17:26:53 2020更新最新数据完毕\n"
     ]
    }
   ],
   "source": [
    "update_details()"
   ]
  },
  {
   "cell_type": "code",
   "execution_count": null,
   "metadata": {},
   "outputs": [],
   "source": []
  }
 ],
 "metadata": {
  "kernelspec": {
   "display_name": "PyCharm (Cov19)",
   "language": "python",
   "name": "pycharm-3c18d855"
  },
  "language_info": {
   "codemirror_mode": {
    "name": "ipython",
    "version": 3
   },
   "file_extension": ".py",
   "mimetype": "text/x-python",
   "name": "python",
   "nbconvert_exporter": "python",
   "pygments_lexer": "ipython3",
   "version": "3.8.3"
  }
 },
 "nbformat": 4,
 "nbformat_minor": 4
}
