{
 "cells": [
  {
   "cell_type": "markdown",
   "metadata": {},
   "source": [
    "## 爬取腾讯的疫情数据"
   ]
  },
  {
   "cell_type": "code",
   "execution_count": 1,
   "metadata": {},
   "outputs": [
    {
     "name": "stdout",
     "output_type": "stream",
     "text": [
      "dict_keys(['ret', 'data'])\n"
     ]
    }
   ],
   "source": [
    "import json\n",
    "\n",
    "import requests\n",
    "\n",
    "url = 'https://view.inews.qq.com/g2/getOnsInfo?name=disease_h5'\n",
    "res = requests.get(url)\n",
    "d = json.loads(res.text)\n",
    "print(d.keys())"
   ]
  },
  {
   "cell_type": "code",
   "execution_count": 2,
   "metadata": {},
   "outputs": [
    {
     "name": "stdout",
     "output_type": "stream",
     "text": [
      "dict_keys(['lastUpdateTime', 'chinaTotal', 'chinaAdd', 'isShowAdd', 'showAddSwitch', 'areaTree'])\n"
     ]
    }
   ],
   "source": [
    "data_all = json.loads(d['data'])\n",
    "print(data_all.keys())"
   ]
  },
  {
   "cell_type": "code",
   "execution_count": 3,
   "metadata": {},
   "outputs": [
    {
     "name": "stdout",
     "output_type": "stream",
     "text": [
      "1\n",
      "dict_keys(['name', 'today', 'total', 'children'])\n"
     ]
    }
   ],
   "source": [
    "print(len(data_all['areaTree']))\n",
    "print(data_all['areaTree'][0].keys())"
   ]
  },
  {
   "cell_type": "code",
   "execution_count": 4,
   "metadata": {},
   "outputs": [
    {
     "name": "stdout",
     "output_type": "stream",
     "text": [
      "中国\n",
      "{'confirm': 85, 'isUpdated': True}\n",
      "{'nowConfirm': 766, 'confirm': 92914, 'suspect': 2, 'dead': 4749, 'deadRate': '5.11', 'showRate': False, 'heal': 87399, 'healRate': '94.06', 'showHeal': True}\n"
     ]
    }
   ],
   "source": [
    "print(data_all['areaTree'][0]['name'])\n",
    "print(data_all['areaTree'][0]['today'])\n",
    "print(data_all['areaTree'][0]['total'])"
   ]
  },
  {
   "cell_type": "code",
   "execution_count": 5,
   "metadata": {},
   "outputs": [
    {
     "name": "stdout",
     "output_type": "stream",
     "text": [
      "34\n",
      "香港\n",
      "台湾\n",
      "上海\n",
      "四川\n",
      "福建\n",
      "陕西\n",
      "广东\n",
      "内蒙古\n",
      "天津\n",
      "浙江\n",
      "湖北\n",
      "江苏\n",
      "河南\n",
      "山西\n",
      "云南\n",
      "北京\n",
      "广西\n",
      "辽宁\n",
      "山东\n",
      "重庆\n",
      "河北\n",
      "安徽\n",
      "新疆\n",
      "澳门\n",
      "青海\n",
      "吉林\n",
      "海南\n",
      "湖南\n",
      "甘肃\n",
      "宁夏\n",
      "贵州\n",
      "黑龙江\n",
      "西藏\n",
      "江西\n"
     ]
    }
   ],
   "source": [
    "print(len(data_all['areaTree'][0]['children']))\n",
    "\n",
    "for i in data_all['areaTree'][0]['children']:\n",
    "    print(i['name'])"
   ]
  },
  {
   "cell_type": "code",
   "execution_count": 6,
   "metadata": {},
   "outputs": [],
   "source": [
    "import json\n",
    "import time\n",
    "import traceback\n",
    "\n",
    "import pymysql"
   ]
  },
  {
   "cell_type": "code",
   "execution_count": 7,
   "metadata": {},
   "outputs": [],
   "source": [
    "def get_tencent_data():\n",
    "    url1 = \"https://view.inews.qq.com/g2/getOnsInfo?name=disease_h5\"\n",
    "    url2 = \"https://view.inews.qq.com/g2/getOnsInfo?name=disease_other\"\n",
    "    headers = {\n",
    "        \"user-agent\": \"Mozilla/5.0 (Windows NT 10.0; Win64; x64) AppleWebKit/537.36 (KHTML, like Gecko) Chrome/80.0.3987.122 Safari/537.36\"\n",
    "    }\n",
    "    r1 = requests.get(url1, headers)\n",
    "    r2 = requests.get(url2, headers)\n",
    "\n",
    "    res1 = json.loads(r1.text)\n",
    "    res2 = json.loads(r2.text)\n",
    "\n",
    "    data_all1 = json.loads(res1[\"data\"])\n",
    "    data_all2 = json.loads(res2[\"data\"])\n",
    "\n",
    "    history = {}\n",
    "    for i in data_all2[\"chinaDayList\"]:\n",
    "        ds = \"2020.\" + i[\"date\"]\n",
    "        tup = time.strptime(ds, \"%Y.%m.%d\")  # 匹配时间\n",
    "        ds = time.strftime(\"%Y-%m-%d\", tup)  # 改变时间格式\n",
    "        confirm = i[\"confirm\"]\n",
    "        suspect = i[\"suspect\"]\n",
    "        heal = i[\"heal\"]\n",
    "        dead = i[\"dead\"]\n",
    "        history[ds] = {\"confirm\": confirm,\n",
    "                       \"suspect\": suspect, \"heal\": heal, \"dead\": dead}\n",
    "    for i in data_all2[\"chinaDayAddList\"]:\n",
    "        ds = \"2020.\" + i[\"date\"]\n",
    "        tup = time.strptime(ds, \"%Y.%m.%d\")  # 匹配时间\n",
    "        ds = time.strftime(\"%Y-%m-%d\", tup)  # 改变时间格式\n",
    "        confirm = i[\"confirm\"]\n",
    "        suspect = i[\"suspect\"]\n",
    "        heal = i[\"heal\"]\n",
    "        dead = i[\"dead\"]\n",
    "        history[ds].update(\n",
    "            {\"confirm_add\": confirm, \"suspect_add\": suspect, \"heal_add\": heal, \"dead_add\": dead})\n",
    "\n",
    "    details = []\n",
    "    update_time = data_all1[\"lastUpdateTime\"]\n",
    "    data_country = data_all1[\"areaTree\"]\n",
    "    data_province = data_country[0][\"children\"]\n",
    "    for pro_infos in data_province:\n",
    "        province = pro_infos[\"name\"]\n",
    "        for city_infos in pro_infos[\"children\"]:\n",
    "            city = city_infos[\"name\"]\n",
    "            confirm = city_infos[\"total\"][\"confirm\"]\n",
    "            confirm_add = city_infos[\"today\"][\"confirm\"]\n",
    "            heal = city_infos[\"total\"][\"heal\"]\n",
    "            dead = city_infos[\"total\"][\"dead\"]\n",
    "            details.append([update_time, province, city,\n",
    "                            confirm, confirm_add, heal, dead])\n",
    "    return history, details"
   ]
  },
  {
   "cell_type": "markdown",
   "metadata": {},
   "source": [
    "## 存储数据"
   ]
  },
  {
   "cell_type": "code",
   "execution_count": 8,
   "metadata": {},
   "outputs": [],
   "source": [
    "def get_conn():\n",
    "    # 建立连接\n",
    "    conn = pymysql.connect(host='localhost',\n",
    "                           user='root',\n",
    "                           password='123456',\n",
    "                           db='cov')\n",
    "    # 创建游标\n",
    "    cursor = conn.cursor()\n",
    "    return conn, cursor\n",
    "\n",
    "\n",
    "def close_conn(conn, cursor):\n",
    "    if cursor:\n",
    "        cursor.close()\n",
    "    if conn:\n",
    "        conn.close()"
   ]
  },
  {
   "cell_type": "code",
   "execution_count": 9,
   "metadata": {},
   "outputs": [],
   "source": [
    "def update_details():\n",
    "    \"\"\"更新details表\"\"\"\n",
    "    cursor = None\n",
    "    conn = None\n",
    "    try:\n",
    "        li = get_tencent_data()[1]\n",
    "        conn, cursor = get_conn()\n",
    "        sql = 'insert into details(update_time,province,city,confirm,confirm_add,heal,dead) values(%s,%s,%s,%s,%s,%s,%s)'\n",
    "        # 对比当前最大时间戳\n",
    "        sql_query = 'select %s=(select update_time from details order by id desc limit 1)'\n",
    "        cursor.execute(sql_query, li[0][0])\n",
    "        if not cursor.fetchone()[0]:\n",
    "            print(f'{time.asctime()}开始更新最新数据')\n",
    "            for item in li:\n",
    "                cursor.execute(sql, item)\n",
    "            conn.commit()\n",
    "            print(f'{time.asctime()}更新最新数据完毕')\n",
    "        else:\n",
    "            print(f'{time.asctime()}已是最新数据')\n",
    "    except:\n",
    "        traceback.print_exc()\n",
    "    finally:\n",
    "        close_conn(conn, cursor)"
   ]
  },
  {
   "cell_type": "code",
   "execution_count": 10,
   "metadata": {},
   "outputs": [],
   "source": [
    "def insert_history():\n",
    "    \"\"\"插入history表\"\"\"\n",
    "    cursor = None\n",
    "    conn = None\n",
    "    try:\n",
    "        dic = get_tencent_data()[0]\n",
    "        print(f'{time.asctime()}开始插入历史数据')\n",
    "        conn, cursor = get_conn()\n",
    "        sql = 'insert into history values(%s,%s,%s,%s,%s,%s,%s,%s,%s)'\n",
    "        for k, v in dic.items():\n",
    "            cursor.execute(sql, [k, v.get('confirm'), v.get('confirm_add'),\n",
    "                                 v.get('suspect'), v.get('suspect_add'),\n",
    "                                 v.get('heal'), v.get('heal_add'),\n",
    "                                 v.get('dead'), v.get('dead_add')])\n",
    "        conn.commit()\n",
    "        print(f'{time.asctime()}插入历史数据完毕')\n",
    "    except:\n",
    "        traceback.print_exc()\n",
    "    finally:\n",
    "        close_conn(conn, cursor)"
   ]
  },
  {
   "cell_type": "code",
   "execution_count": 11,
   "metadata": {},
   "outputs": [],
   "source": [
    "def update_history():\n",
    "    \"\"\"插入history表\"\"\"\n",
    "    cursor = None\n",
    "    conn = None\n",
    "    try:\n",
    "        dic = get_tencent_data()[0]\n",
    "        print(f'{time.asctime()}开始更新历史数据')\n",
    "        conn, cursor = get_conn()\n",
    "        sql = 'insert into history values(%s,%s,%s,%s,%s,%s,%s,%s,%s)'\n",
    "        sql_query = 'select confirm from history where ds=%s'\n",
    "        for k, v in dic.items():\n",
    "            if not cursor.execute(sql_query,k):\n",
    "                cursor.execute(sql, [k, v.get('confirm'), v.get('confirm_add'),\n",
    "                                     v.get('suspect'), v.get('suspect_add'),\n",
    "                                     v.get('heal'), v.get('heal_add'),\n",
    "                                     v.get('dead'), v.get('dead_add')])\n",
    "        conn.commit()\n",
    "        print(f'{time.asctime()}历史数据更新完毕')\n",
    "    except:\n",
    "        traceback.print_exc()\n",
    "    finally:\n",
    "        close_conn(conn, cursor)"
   ]
  },
  {
   "cell_type": "code",
   "execution_count": 12,
   "metadata": {},
   "outputs": [],
   "source": [
    "# 插入历史数据(仅第一次运行)\n",
    "# insert_history()"
   ]
  },
  {
   "cell_type": "code",
   "execution_count": 13,
   "metadata": {},
   "outputs": [
    {
     "name": "stdout",
     "output_type": "stream",
     "text": [
      "()\n"
     ]
    }
   ],
   "source": [
    "# 建立连接\n",
    "conn = pymysql.connect(host='localhost',\n",
    "                       user='root',\n",
    "                       password='123456',\n",
    "                       db='cov')\n",
    "# 创建游标，默认是元组型\n",
    "cursor = conn.cursor()\n",
    "sql = 'select * from history limit 5'\n",
    "cursor.execute(sql)\n",
    "# 提交事务\n",
    "res = cursor.fetchall()\n",
    "print(res)\n",
    "cursor.close()\n",
    "conn.close()"
   ]
  },
  {
   "cell_type": "code",
   "execution_count": 14,
   "outputs": [
    {
     "name": "stdout",
     "output_type": "stream",
     "text": [
      "Wed Nov 25 15:32:59 2020开始更新最新数据\n",
      "Wed Nov 25 15:32:59 2020更新最新数据完毕\n"
     ]
    }
   ],
   "source": [
    "update_details()"
   ],
   "metadata": {
    "collapsed": false,
    "pycharm": {
     "name": "#%%\n"
    }
   }
  },
  {
   "cell_type": "code",
   "execution_count": 15,
   "metadata": {},
   "outputs": [
    {
     "name": "stdout",
     "output_type": "stream",
     "text": [
      "Wed Nov 25 15:33:01 2020开始更新历史数据\n",
      "Wed Nov 25 15:33:02 2020历史数据更新完毕\n"
     ]
    }
   ],
   "source": [
    "update_history()"
   ]
  },
  {
   "cell_type": "markdown",
   "metadata": {},
   "source": [
    "## 爬取热搜数据"
   ]
  },
  {
   "cell_type": "code",
   "execution_count": 16,
   "metadata": {},
   "outputs": [],
   "source": [
    "from selenium.webdriver import Chrome, ChromeOptions"
   ]
  },
  {
   "cell_type": "code",
   "execution_count": 17,
   "metadata": {},
   "outputs": [],
   "source": [
    "def get_baidu_hot():\n",
    "    # 无头浏览器\n",
    "    option = ChromeOptions()\n",
    "    option.add_argument('--headless')\n",
    "#     option.add_argument('--no-sandbox')\n",
    "\n",
    "    url = 'http://top.baidu.com/?fr=mhd_card'\n",
    "    browser = Chrome(options=option, executable_path='chromedriver.exe')\n",
    "    browser.get(url)\n",
    "    # 找到更多按钮\n",
    "    button = browser.find_elements_by_xpath(\n",
    "        '//*[@id=\"main\"]/div[1]/div[1]/div[3]/div[1]/a')[0]\n",
    "    button.click()\n",
    "    time.sleep(1)\n",
    "    # 获取热搜标题\n",
    "    c = browser.find_elements_by_xpath(\n",
    "        '//*[@id=\"main\"]/div[2]/div/table/tbody/tr/td/a[@class=\"list-title\"]')\n",
    "    context = [i.text for i in c]\n",
    "    h = browser.find_elements_by_xpath('//*[@id=\"main\"]/div/div/table/tbody/tr/td[@class=\"last\"]/span')\n",
    "    hot = [i.text for i in h]\n",
    "    return context,hot"
   ]
  },
  {
   "cell_type": "code",
   "execution_count": 18,
   "metadata": {},
   "outputs": [],
   "source": [
    "def update_hotsearch():\n",
    "    \"\"\"插入热搜数据\"\"\"\n",
    "    cursor = None\n",
    "    conn = None\n",
    "    try:\n",
    "        context,hot = get_baidu_hot()\n",
    "        print(f'{time.asctime()}开始更新热搜数据')\n",
    "        conn, cursor = get_conn()\n",
    "        sql = 'insert into hotsearch(dt,content,hot) values(%s,%s,%s)'\n",
    "        ts = time.strftime('%y-%m-%d %X')\n",
    "        for i ,j in zip(context,hot):\n",
    "            cursor.execute(sql, (ts, i,j))  # 插入数据\n",
    "        conn.commit()\n",
    "        print(f'{time.asctime()}数据更新完毕')\n",
    "    except:\n",
    "        traceback.print_exc()\n",
    "    finally:\n",
    "        close_conn(conn, cursor)"
   ]
  },
  {
   "cell_type": "code",
   "execution_count": 19,
   "metadata": {
    "pycharm": {
     "name": "#%%\n"
    }
   },
   "outputs": [
    {
     "name": "stdout",
     "output_type": "stream",
     "text": [
      "Wed Nov 25 15:33:17 2020开始更新热搜数据\n",
      "Wed Nov 25 15:33:17 2020数据更新完毕\n"
     ]
    }
   ],
   "source": [
    "update_hotsearch()"
   ]
  }
 ],
 "metadata": {
  "kernelspec": {
   "display_name": "PyCharm (Cov19)",
   "language": "python",
   "name": "pycharm-3c18d855"
  },
  "language_info": {
   "codemirror_mode": {
    "name": "ipython",
    "version": 3
   },
   "file_extension": ".py",
   "mimetype": "text/x-python",
   "name": "python",
   "nbconvert_exporter": "python",
   "pygments_lexer": "ipython3",
   "version": "3.8.3"
  }
 },
 "nbformat": 4,
 "nbformat_minor": 4
}